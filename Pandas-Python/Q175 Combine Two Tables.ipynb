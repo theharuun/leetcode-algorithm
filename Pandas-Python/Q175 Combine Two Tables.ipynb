{
 "cells": [
  {
   "cell_type": "markdown",
   "metadata": {},
   "source": [
    "## Problem Statement\n",
    "\n",
    "Write a solution to report the **first name**, **last name**, **city**, and **state** of each person in the `Person` table. If the address of a `personId` is not present in the `Address` table, report `NULL` instead.\n",
    "\n",
    "The result table can be returned in any order.\n",
    "\n",
    "---\n",
    "\n",
    "## Example\n",
    "\n",
    "### **Input:**\n",
    "\n",
    "#### **Person table:**\n",
    "| personId | lastName | firstName |\n",
    "|----------|----------|-----------|\n",
    "| 1        | Wang     | Allen     |\n",
    "| 2        | Alice    | Bob       |\n",
    "\n",
    "#### **Address table:**\n",
    "| addressId | personId | city          | state      |\n",
    "|-----------|----------|---------------|------------|\n",
    "| 1         | 2        | New York City | New York   |\n",
    "| 2         | 3        | Leetcode      | California |\n",
    "\n",
    "---\n",
    "\n",
    "### **Output:**\n",
    "| firstName | lastName | city          | state    |\n",
    "|-----------|----------|---------------|----------|\n",
    "| Allen     | Wang     | NULL          | NULL     |\n",
    "| Bob       | Alice    | New York City | New York |\n",
    "\n",
    "---\n",
    "\n",
    "### **Explanation:**\n",
    "- There is **no address** in the `Address` table for `personId = 1`, so we return `NULL` for their `city` and `state`.\n",
    "- `addressId = 1` contains information about the address of `personId = 2`, so we include that data in the output.\n"
   ]
  },
  {
   "cell_type": "code",
   "execution_count": 2,
   "metadata": {},
   "outputs": [
    {
     "name": "stdout",
     "output_type": "stream",
     "text": [
      "  firstName lastName           city     state\n",
      "0     Allen     Wang            NaN       NaN\n",
      "1       Bob    Alice  New York City  New York\n"
     ]
    }
   ],
   "source": [
    "import pandas as pd\n",
    "\n",
    "def combine_two_tables(person: pd.DataFrame, address: pd.DataFrame) -> pd.DataFrame:\n",
    "  \n",
    "    merged_df = pd.merge(person, address, on='personId', how='left')\n",
    "\n",
    "    return merged_df[['firstName', 'lastName', 'city', 'state']]\n",
    "\n",
    "\n",
    "person_data = {\n",
    "    'personId': [1, 2],\n",
    "    'lastName': ['Wang', 'Alice'],\n",
    "    'firstName': ['Allen', 'Bob']\n",
    "}\n",
    "\n",
    "address_data = {\n",
    "    'addressId': [1, 2],\n",
    "    'personId': [2, 3],\n",
    "    'city': ['New York City', 'Leetcode'],\n",
    "    'state': ['New York', 'California']\n",
    "}\n",
    "\n",
    "person_df = pd.DataFrame(person_data)\n",
    "address_df = pd.DataFrame(address_data)\n",
    "\n",
    "result_df = combine_two_tables(person_df, address_df)\n",
    "\n",
    "print(result_df.head())"
   ]
  }
 ],
 "metadata": {
  "kernelspec": {
   "display_name": "Python 3",
   "language": "python",
   "name": "python3"
  },
  "language_info": {
   "codemirror_mode": {
    "name": "ipython",
    "version": 3
   },
   "file_extension": ".py",
   "mimetype": "text/x-python",
   "name": "python",
   "nbconvert_exporter": "python",
   "pygments_lexer": "ipython3",
   "version": "3.13.0"
  }
 },
 "nbformat": 4,
 "nbformat_minor": 2
}
