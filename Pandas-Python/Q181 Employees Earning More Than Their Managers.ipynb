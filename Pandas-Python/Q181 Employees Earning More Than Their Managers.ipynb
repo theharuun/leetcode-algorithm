{
 "cells": [
  {
   "cell_type": "markdown",
   "metadata": {},
   "source": [
    "## Problem Statement\n",
    "\n",
    "| Column Name | Type    |\n",
    "|-------------|---------|\n",
    "| id          | int     |\n",
    "| name        | varchar |\n",
    "| salary      | int     |\n",
    "| managerId   | int     |\n",
    "\n",
    "- id is the primary key (column with unique values) for this table.\n",
    "- Each row of this table indicates the ID of an employee, their name, salary, and the ID of their manager.\n",
    " \n",
    "\n",
    "- Write a solution to find the employees who earn more than their managers.\n",
    "\n",
    "- Return the result table in any order.\n",
    "\n",
    "- The result format is in the following example.\n",
    "\n",
    " \n",
    "\n",
    "## Example 1:\n",
    "\n",
    "### Input: \n",
    "#### Employee table:\n",
    "\n",
    "| id | name  | salary | managerId |\n",
    "|----|-------|--------|-----------|\n",
    "| 1  | Joe   | 70000  | 3         |\n",
    "| 2  | Henry | 80000  | 4         |\n",
    "| 3  | Sam   | 60000  | Null      |\n",
    "| 4  | Max   | 90000  | Null      |\n",
    "\n",
    "\n",
    "### Output: \n",
    "\n",
    "| Employee |\n",
    "|----------|\n",
    "| Joe      |\n",
    "\n",
    "Explanation: Joe is the only employee who earns more than his manager."
   ]
  },
  {
   "cell_type": "code",
   "execution_count": 26,
   "metadata": {},
   "outputs": [
    {
     "data": {
      "application/vnd.microsoft.datawrangler.viewer.v0+json": {
       "columns": [
        {
         "name": "index",
         "rawType": "int64",
         "type": "integer"
        },
        {
         "name": "Employee",
         "rawType": "object",
         "type": "string"
        }
       ],
       "conversionMethod": "pd.DataFrame",
       "ref": "127a1371-9313-48f4-bc1a-ba8ee3be55d8",
       "rows": [
        [
         "0",
         "Joe"
        ]
       ],
       "shape": {
        "columns": 1,
        "rows": 1
       }
      },
      "text/html": [
       "<div>\n",
       "<style scoped>\n",
       "    .dataframe tbody tr th:only-of-type {\n",
       "        vertical-align: middle;\n",
       "    }\n",
       "\n",
       "    .dataframe tbody tr th {\n",
       "        vertical-align: top;\n",
       "    }\n",
       "\n",
       "    .dataframe thead th {\n",
       "        text-align: right;\n",
       "    }\n",
       "</style>\n",
       "<table border=\"1\" class=\"dataframe\">\n",
       "  <thead>\n",
       "    <tr style=\"text-align: right;\">\n",
       "      <th></th>\n",
       "      <th>Employee</th>\n",
       "    </tr>\n",
       "  </thead>\n",
       "  <tbody>\n",
       "    <tr>\n",
       "      <th>0</th>\n",
       "      <td>Joe</td>\n",
       "    </tr>\n",
       "  </tbody>\n",
       "</table>\n",
       "</div>"
      ],
      "text/plain": [
       "  Employee\n",
       "0      Joe"
      ]
     },
     "execution_count": 26,
     "metadata": {},
     "output_type": "execute_result"
    }
   ],
   "source": [
    "import pandas as pd\n",
    "import numpy as np\n",
    "\n",
    "employee = {\n",
    "    'id': [1, 2,3,4],\n",
    "    'name': ['Joe', 'Henry','Sam','Max'],\n",
    "    'salary': [70000,80000,60000,90000],\n",
    "    'managerId': [3,4,np.nan,np.nan]\n",
    "}\n",
    "\n",
    "df=pd.DataFrame(employee)\n",
    "\n",
    "def find_employees(employee: pd.DataFrame) -> pd.DataFrame:\n",
    "    merged_df = employee.merge(employee, left_on=\"managerId\", right_on=\"id\", suffixes=('_emp', '_mgr'))\n",
    "\n",
    "    filtered_df = merged_df[merged_df[\"salary_emp\"] > merged_df[\"salary_mgr\"]]\n",
    "\n",
    "    return filtered_df[[\"name_emp\"]].rename(columns={\"name_emp\": \"Employee\"})\n",
    "\n",
    "answer=find_employees(df)\n",
    "answer"
   ]
  }
 ],
 "metadata": {
  "kernelspec": {
   "display_name": "Python 3",
   "language": "python",
   "name": "python3"
  },
  "language_info": {
   "codemirror_mode": {
    "name": "ipython",
    "version": 3
   },
   "file_extension": ".py",
   "mimetype": "text/x-python",
   "name": "python",
   "nbconvert_exporter": "python",
   "pygments_lexer": "ipython3",
   "version": "3.13.0"
  }
 },
 "nbformat": 4,
 "nbformat_minor": 2
}
