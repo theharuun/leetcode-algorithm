{
 "cells": [
  {
   "cell_type": "markdown",
   "metadata": {},
   "source": [
    "## Table: Customers\n",
    "| Column Name | Type    |\n",
    "|-------------|---------|\n",
    "| id          | int     |\n",
    "| name        | varchar |\n",
    "\n",
    "- id is the primary key (column with unique values) for this table.\n",
    "- Each row of this table indicates the ID and name of a customer.\n",
    "\n",
    "## Table: Orders\n",
    "| Column Name | Type |\n",
    "|-------------|------|\n",
    "| id          | int  |\n",
    "| customerId  | int  |\n",
    "\n",
    "- id is the primary key (column with unique values) for this table.\n",
    "- customerId is a foreign key (reference columns) of the ID from the Customers table.\n",
    "- Each row of this table indicates the ID of an order and the ID of the customer who ordered it.\n",
    " \n",
    "\n",
    "\n",
    "**Write a solution to find all customers who never order anything.**\n",
    "**Return the result table in any order.**\n",
    "**The result format is in the following example.**\n",
    "\n",
    " \n",
    "\n",
    "## Example 1:\n",
    "### Input: \n",
    "#### Customers table:\n",
    "| id | name  |\n",
    "|----|-------|\n",
    "| 1  | Joe   |\n",
    "| 2  | Henry |\n",
    "| 3  | Sam   |\n",
    "| 4  | Max   |\n",
    "\n",
    "#### Orders table:\n",
    "| id | customerId |\n",
    "|----|------------|\n",
    "| 1  | 3          |\n",
    "| 2  | 1          |\n",
    "\n",
    "### Output: \n",
    "| Customers |\n",
    "|-----------|\n",
    "| Henry     |\n",
    "| Max       |\n"
   ]
  },
  {
   "cell_type": "code",
   "execution_count": 4,
   "metadata": {},
   "outputs": [
    {
     "data": {
      "application/vnd.microsoft.datawrangler.viewer.v0+json": {
       "columns": [
        {
         "name": "index",
         "rawType": "int64",
         "type": "integer"
        },
        {
         "name": "Customers",
         "rawType": "object",
         "type": "string"
        }
       ],
       "conversionMethod": "pd.DataFrame",
       "ref": "57b245ed-d9aa-45c5-ba18-1840158b4f58",
       "rows": [
        [
         "1",
         "Henry"
        ],
        [
         "3",
         "Max"
        ]
       ],
       "shape": {
        "columns": 1,
        "rows": 2
       }
      },
      "text/html": [
       "<div>\n",
       "<style scoped>\n",
       "    .dataframe tbody tr th:only-of-type {\n",
       "        vertical-align: middle;\n",
       "    }\n",
       "\n",
       "    .dataframe tbody tr th {\n",
       "        vertical-align: top;\n",
       "    }\n",
       "\n",
       "    .dataframe thead th {\n",
       "        text-align: right;\n",
       "    }\n",
       "</style>\n",
       "<table border=\"1\" class=\"dataframe\">\n",
       "  <thead>\n",
       "    <tr style=\"text-align: right;\">\n",
       "      <th></th>\n",
       "      <th>Customers</th>\n",
       "    </tr>\n",
       "  </thead>\n",
       "  <tbody>\n",
       "    <tr>\n",
       "      <th>1</th>\n",
       "      <td>Henry</td>\n",
       "    </tr>\n",
       "    <tr>\n",
       "      <th>3</th>\n",
       "      <td>Max</td>\n",
       "    </tr>\n",
       "  </tbody>\n",
       "</table>\n",
       "</div>"
      ],
      "text/plain": [
       "  Customers\n",
       "1     Henry\n",
       "3       Max"
      ]
     },
     "execution_count": 4,
     "metadata": {},
     "output_type": "execute_result"
    }
   ],
   "source": [
    "import pandas as pd\n",
    "\n",
    "customers = pd.DataFrame({\n",
    "    \"id\": [1, 2, 3, 4],\n",
    "    \"name\": [\"Joe\", \"Henry\", \"Sam\", \"Max\"]\n",
    "})\n",
    "\n",
    "orders = pd.DataFrame({\n",
    "    \"id\": [1, 2],\n",
    "    \"customerId\": [3, 1]\n",
    "})\n",
    "\n",
    "\n",
    "def find_customers(customers: pd.DataFrame, orders: pd.DataFrame) -> pd.DataFrame:\n",
    "    \"\"\"\n",
    "     soldan birleştirerek şu şekilde bir row yapısına sahip olundu\n",
    "     row=id_x,name,id_y,customerId \n",
    "     sonrasında customer ıd nan olanları bir dfde aldık ve column adını değiştirip döndürdük\n",
    "    \"\"\"\n",
    "    merged = customers.merge(orders, how='left', left_on='id', right_on='customerId')\n",
    "    nondf = merged[merged[\"customerId\"].isna()]\n",
    "    result = nondf[[\"name\"]].rename(columns={\"name\": \"Customers\"})\n",
    "    return result\n",
    "\n",
    "\n",
    "find_customers(customers=customers,orders=orders)"
   ]
  }
 ],
 "metadata": {
  "kernelspec": {
   "display_name": "Python 3",
   "language": "python",
   "name": "python3"
  },
  "language_info": {
   "codemirror_mode": {
    "name": "ipython",
    "version": 3
   },
   "file_extension": ".py",
   "mimetype": "text/x-python",
   "name": "python",
   "nbconvert_exporter": "python",
   "pygments_lexer": "ipython3",
   "version": "3.12.0"
  }
 },
 "nbformat": 4,
 "nbformat_minor": 2
}
