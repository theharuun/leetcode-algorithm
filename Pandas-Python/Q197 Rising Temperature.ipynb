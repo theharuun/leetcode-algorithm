{
 "cells": [
  {
   "cell_type": "markdown",
   "metadata": {},
   "source": [
    "- Write a solution to find all dates' id with higher temperatures compared to its previous dates (yesterday).\n",
    "\n",
    "- Return the result table in any order.\n",
    "\n",
    "- The result format is in the following example.\n",
    "\n",
    " \n",
    "\n",
    "# Example 1:\n",
    "\n",
    "**Input:**\n",
    "- Weather table:\n",
    "\n",
    "| id | recordDate | temperature |\n",
    "|----|------------|-------------|\n",
    "| 1  | 2015-01-01 | 10          |\n",
    "| 2  | 2015-01-02 | 25          |\n",
    "| 3  | 2015-01-03 | 20          |\n",
    "| 4  | 2015-01-04 | 30          |\n",
    "\n",
    "**Output:**\n",
    "\n",
    "| id |\n",
    "|----|\n",
    "| 2  |\n",
    "| 4  |\n",
    "\n",
    "## Explanation: \n",
    "- In 2015-01-02, the temperature was higher than the previous day (10 -> 25).\n",
    "- In 2015-01-04, the temperature was higher than the previous day (20 -> 30)."
   ]
  },
  {
   "cell_type": "code",
   "execution_count": 4,
   "metadata": {},
   "outputs": [
    {
     "name": "stdout",
     "output_type": "stream",
     "text": [
      "   id\n",
      "0   2\n",
      "1   4\n"
     ]
    }
   ],
   "source": [
    "import pandas as pd\n",
    "\n",
    "def rising_temperature(weather: pd.DataFrame) -> pd.DataFrame:\n",
    "    result = []\n",
    "    weather = weather.sort_values(by='recordDate').reset_index(drop=True)\n",
    "\n",
    "    # Eğer weather tablosu boşsa, sadece başlığı olan boş bir tablo döndür\n",
    "    if weather.empty:\n",
    "        return pd.DataFrame(columns=['id'])\n",
    "\n",
    "    for i in range(1, len(weather)):\n",
    "        if weather.loc[i, 'temperature'] > weather.loc[i - 1, 'temperature']:\n",
    "            if (pd.to_datetime(weather.loc[i, 'recordDate']) - pd.to_datetime(weather.loc[i - 1, 'recordDate'])).days == 1:\n",
    "                result.append({'id': weather.loc[i, 'id']})\n",
    "\n",
    "    return pd.DataFrame(result, columns=['id']) if result else pd.DataFrame(columns=['id'])\n",
    "\n",
    "data = {\n",
    "    'id': [1, 2,3,4],\n",
    "    'recordDate': ['2000-12-15', '2000-12-16','2000-12-17', '2000-12-18'],\n",
    "    'temperature': [10, 25,20,30]\n",
    "}\n",
    "\n",
    "df = pd.DataFrame(data)\n",
    "print(rising_temperature(df).head())\n",
    "\n"
   ]
  }
 ],
 "metadata": {
  "kernelspec": {
   "display_name": "Python 3",
   "language": "python",
   "name": "python3"
  },
  "language_info": {
   "codemirror_mode": {
    "name": "ipython",
    "version": 3
   },
   "file_extension": ".py",
   "mimetype": "text/x-python",
   "name": "python",
   "nbconvert_exporter": "python",
   "pygments_lexer": "ipython3",
   "version": "3.12.0"
  }
 },
 "nbformat": 4,
 "nbformat_minor": 2
}
